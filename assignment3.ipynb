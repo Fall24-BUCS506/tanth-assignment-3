{
 "cells": [
  {
   "cell_type": "markdown",
   "id": "245217cc",
   "metadata": {},
   "source": [
    "# Assignment: SVD Preprocessing on MNIST with Logistic Regression"
   ]
  },
  {
   "cell_type": "markdown",
   "id": "deffa444",
   "metadata": {},
   "source": [
    "## Instructions:\n",
    "In this assignment, you will apply **Singular Value Decomposition (SVD)** as a preprocessing step to the **MNIST dataset** and train a **logistic regression classifier**. You will compare the model performance and training time when using different levels of SVD for dimensionality reduction.\n",
    "\n",
    "In this assignment, you will need to:\n",
    "1. Load the MNIST dataset and normalize it.\n",
    "2. Perform SVD and reduce the dimensions of the data.\n",
    "3. Train a logistic regression model on the original and SVD-reduced data.\n",
    "4. Measure and compare the training time and accuracy of the model with varying SVD components.\n",
    "5. Plot the results and analyze how SVD impacts the performance and efficiency of the model.\n",
    "\n",
    "***\n",
    "Your tasks include:\n",
    "1. Implement SVD algorithm. You are not allowed to directly use SVD implemented by other packages, but you may use functions in NumPy. (Part 2)\n",
    "2. Explore the accuracy and time performance from different numbers of SVD components. (Part 4)\n",
    "3. Visualize the accuracy, time performance and top 5 singular vectors in the dataset, analyze and explain which number of SVD component looks best to you? (Part 4,5&6) Hint: singular vectors should be reshaped to 28x28 images for visualization.\n",
    "***\n",
    "**Note that you may not import any other function or package.** Let's get started!\n"
   ]
  },
  {
   "cell_type": "markdown",
   "id": "b3e10cb3",
   "metadata": {},
   "source": [
    "## Part 1: Load the MNIST dataset and preprocess the data"
   ]
  },
  {
   "cell_type": "code",
   "execution_count": 1,
   "id": "79f2d907",
   "metadata": {},
   "outputs": [
    {
     "name": "stdout",
     "output_type": "stream",
     "text": [
      "Loading MNIST dataset...\n"
     ]
    }
   ],
   "source": [
    "import numpy as np\n",
    "import matplotlib.pyplot as plt\n",
    "import time\n",
    "from sklearn.linear_model import LogisticRegression\n",
    "from sklearn.model_selection import train_test_split\n",
    "from sklearn.datasets import fetch_openml\n",
    "from sklearn.metrics import accuracy_score, classification_report\n",
    "\n",
    "# Load MNIST dataset\n",
    "print(\"Loading MNIST dataset...\")\n",
    "mnist = fetch_openml('mnist_784', version=1)\n",
    "X = mnist.data\n",
    "y = mnist.target\n",
    "\n",
    "# Normalize the data\n",
    "X = X / 255.0\n",
    "\n",
    "# Split into training and test sets\n",
    "X_train, X_test, y_train, y_test = train_test_split(X, y, test_size=0.2, random_state=42)\n"
   ]
  },
  {
   "cell_type": "markdown",
   "id": "28b8572d",
   "metadata": {},
   "source": [
    "## Part 2: Implement SVD for Dimensionality Reduction"
   ]
  },
  {
   "cell_type": "code",
   "execution_count": 2,
   "id": "b3bd59f3",
   "metadata": {},
   "outputs": [],
   "source": [
    "def apply_svd_custom(X_train, X_test, n_components):\n",
    "    \"\"\"\n",
    "    Apply SVD-like dimensionality reduction using eigendecomposition.\n",
    "    \n",
    "    Parameters:\n",
    "        X_train (np.ndarray): Training data.\n",
    "        X_test (np.ndarray): Test data.\n",
    "        n_components (int): Number of components to keep.\n",
    "        \n",
    "    Returns:\n",
    "        X_train_reduced (np.ndarray): Transformed training data.\n",
    "        X_test_reduced (np.ndarray): Transformed test data.\n",
    "    \"\"\"\n",
    "    # Step 1: Centering the data\n",
    "    X_train_centered = X_train - np.mean(X_train, axis=0)\n",
    "    X_test_centered = X_test - np.mean(X_test, axis=0)\n",
    "    \n",
    "    # Step 2: Compute covariance matrix\n",
    "    covariance_matrix = np.dot(X_train_centered.T, X_train_centered) / (X_train_centered.shape[0] - 1)\n",
    "    \n",
    "    # Step 3: Eigen decomposition of the covariance matrix\n",
    "    eigenvalues, eigenvectors = np.linalg.eigh(covariance_matrix)\n",
    "    \n",
    "    # Step 4: Sort eigenvalues and corresponding eigenvectors\n",
    "    sorted_indices = np.argsort(eigenvalues)[::-1]\n",
    "    sorted_eigenvalues = eigenvalues[sorted_indices]\n",
    "    sorted_eigenvectors = eigenvectors[:, sorted_indices]\n",
    "    global V_reduced\n",
    "    V_reduced = sorted_eigenvectors\n",
    "    \n",
    "    # Step 5: Select top n_components\n",
    "    U_train_reduced = sorted_eigenvectors[:, :n_components]\n",
    "    \n",
    "    # Step 6: Transform the training data to reduced dimensionality\n",
    "    X_train_reduced = np.dot(X_train_centered, U_train_reduced)\n",
    "    \n",
    "    # Step 7: Project the test data using the same eigenvectors\n",
    "    X_test_reduced = np.dot(X_test_centered, U_train_reduced)\n",
    "    \n",
    "    return X_train_reduced.real, X_test_reduced.real\n"
   ]
  },
  {
   "cell_type": "markdown",
   "id": "eb2a7a9d",
   "metadata": {},
   "source": [
    "## Part 3: Train Logistic Regression and Measure Performance"
   ]
  },
  {
   "cell_type": "code",
   "execution_count": 3,
   "id": "dbfc0b10",
   "metadata": {},
   "outputs": [],
   "source": [
    "# Function to train logistic regression and track training time\n",
    "def train_logistic_regression(X_train, y_train, X_test, y_test):\n",
    "    model = LogisticRegression(max_iter=1000, solver='saga', random_state=42, multi_class='multinomial')\n",
    "    \n",
    "    # Measure training time\n",
    "    start_time = time.time()\n",
    "    model.fit(X_train, y_train)\n",
    "    training_time = time.time() - start_time\n",
    "    \n",
    "    y_pred = model.predict(X_test)\n",
    "    accuracy = accuracy_score(y_test, y_pred)\n",
    "    \n",
    "    return accuracy, training_time\n"
   ]
  },
  {
   "cell_type": "markdown",
   "id": "2e557a05",
   "metadata": {},
   "source": [
    "## Part 4: Experiment with Different Levels of SVD\n",
    "\n",
    "Now, apply SVD with varying numbers of components and observe how the dimensionality reduction impacts the model's performance. Record both the accuracy and training time for each number of components.\n"
   ]
  },
  {
   "cell_type": "code",
   "execution_count": 8,
   "id": "3a460725",
   "metadata": {},
   "outputs": [
    {
     "name": "stdout",
     "output_type": "stream",
     "text": [
      "Training models with different levels of SVD preprocessing...\n",
      "Applying custom SVD with 10 components...\n",
      "SVD components: 10, Accuracy: 0.8041, Training time: 0.9471 seconds\n",
      "Applying custom SVD with 20 components...\n",
      "SVD components: 20, Accuracy: 0.8786, Training time: 2.1984 seconds\n",
      "Applying custom SVD with 30 components...\n",
      "SVD components: 30, Accuracy: 0.8921, Training time: 6.4678 seconds\n",
      "Applying custom SVD with 40 components...\n",
      "SVD components: 40, Accuracy: 0.9023, Training time: 8.5350 seconds\n",
      "Applying custom SVD with 50 components...\n",
      "SVD components: 50, Accuracy: 0.9082, Training time: 12.9084 seconds\n",
      "Applying custom SVD with 65 components...\n",
      "SVD components: 65, Accuracy: 0.9132, Training time: 17.0858 seconds\n",
      "Applying custom SVD with 80 components...\n",
      "SVD components: 80, Accuracy: 0.9170, Training time: 23.4485 seconds\n",
      "Applying custom SVD with 100 components...\n",
      "SVD components: 100, Accuracy: 0.9173, Training time: 35.0543 seconds\n",
      "Applying custom SVD with 125 components...\n",
      "SVD components: 125, Accuracy: 0.9193, Training time: 48.2139 seconds\n",
      "Applying custom SVD with 150 components...\n",
      "SVD components: 150, Accuracy: 0.9196, Training time: 55.6250 seconds\n",
      "Applying custom SVD with 200 components...\n",
      "SVD components: 200, Accuracy: 0.9208, Training time: 81.1655 seconds\n",
      "\n",
      "Summary of results:\n",
      "Components: 10, Accuracy: 0.8041, Training Time: 0.9471 seconds\n",
      "Components: 20, Accuracy: 0.8786, Training Time: 2.1984 seconds\n",
      "Components: 30, Accuracy: 0.8921, Training Time: 6.4678 seconds\n",
      "Components: 40, Accuracy: 0.9023, Training Time: 8.5350 seconds\n",
      "Components: 50, Accuracy: 0.9082, Training Time: 12.9084 seconds\n",
      "Components: 65, Accuracy: 0.9132, Training Time: 17.0858 seconds\n",
      "Components: 80, Accuracy: 0.9170, Training Time: 23.4485 seconds\n",
      "Components: 100, Accuracy: 0.9173, Training Time: 35.0543 seconds\n",
      "Components: 125, Accuracy: 0.9193, Training Time: 48.2139 seconds\n",
      "Components: 150, Accuracy: 0.9196, Training Time: 55.6250 seconds\n",
      "Components: 200, Accuracy: 0.9208, Training Time: 81.1655 seconds\n"
     ]
    }
   ],
   "source": [
    "svd_components = [10, 20, 30, 40, 50, 65, 80, 100, 125, 150, 200]  # You need to decide what number to search...\n",
    "\n",
    "# Store the results\n",
    "results = []\n",
    "\n",
    "print(\"Training models with different levels of SVD preprocessing...\")\n",
    "for n_components in svd_components:\n",
    "    print(f\"Applying custom SVD with {n_components} components...\")\n",
    "    \n",
    "    # Apply SVD to the training and test sets\n",
    "    # Call apply_svd_custom() here...\n",
    "    X_train_svd, X_test_svd = apply_svd_custom(X_train, X_test, n_components)\n",
    "    \n",
    "    # Train the logistic regression model and get accuracy and training time\n",
    "    accuracy, training_time = train_logistic_regression(X_train_svd, y_train, X_test_svd, y_test)\n",
    "\n",
    "    results.append({\n",
    "        'n_components': n_components,\n",
    "        'accuracy': accuracy,\n",
    "        'training_time': training_time\n",
    "    })\n",
    "        \n",
    "    print(f\"SVD components: {n_components}, Accuracy: {accuracy:.4f}, Training time: {training_time:.4f} seconds\")\n",
    "\n",
    "print(\"\\nSummary of results:\")\n",
    "for result in results:\n",
    "    print(f\"Components: {result['n_components']}, Accuracy: {result['accuracy']:.4f}, Training Time: {result['training_time']:.4f} seconds\")\n"
   ]
  },
  {
   "cell_type": "markdown",
   "id": "ea7aca12",
   "metadata": {},
   "source": [
    "## Part 5: Visualize and Analyze the Results\n",
    "\n",
    "Finally, plot the accuracy, training time as a function of the number of SVD components, and top 5 singular vectors. This will help you understand the trade-off between dimensionality reduction, accuracy, and model training time, and how SVD generally works. Hint: singular vectors should be reshaped to 28x28 images for visualization.\n"
   ]
  },
  {
   "cell_type": "code",
   "execution_count": 11,
   "id": "92ef0497",
   "metadata": {},
   "outputs": [
    {
     "data": {
      "image/png": "[encoded data removed]",
      "text/plain": [
       "<Figure size 1008x432 with 2 Axes>"
      ]
     },
     "metadata": {
      "needs_background": "light"
     },
     "output_type": "display_data"
    },
    {
     "data": {
      "image/png": "[encoded data removed]",
      "text/plain": [
       "<Figure size 720x144 with 5 Axes>"
      ]
     },
     "metadata": {
      "needs_background": "light"
     },
     "output_type": "display_data"
    }
   ],
   "source": [
    "## Your implementation here...\n",
    "## You may add necessary lines in Part 4 to access data for visualization\n",
    "\n",
    "# 1. Plot Accuracy and Training Time vs. Number of Components\n",
    "n_components = [result['n_components'] for result in results]\n",
    "accuracies = [result['accuracy'] for result in results]\n",
    "training_times = [result['training_time'] for result in results]\n",
    "\n",
    "plt.figure(figsize=(14, 6))\n",
    "\n",
    "# Subplot 1: Accuracy vs. SVD components\n",
    "plt.subplot(1, 2, 1)\n",
    "plt.plot(n_components, accuracies, marker='o', color='b')\n",
    "plt.title('Accuracy vs. Number of SVD Components')\n",
    "plt.xlabel('Number of SVD Components')\n",
    "plt.ylabel('Accuracy')\n",
    "plt.grid(True)\n",
    "\n",
    "# Subplot 2: Training Time vs. SVD components\n",
    "plt.subplot(1, 2, 2)\n",
    "plt.plot(n_components, training_times, marker='o', color='r')\n",
    "plt.title('Training Time vs. Number of SVD Components')\n",
    "plt.xlabel('Number of SVD Components')\n",
    "plt.ylabel('Training Time (seconds)')\n",
    "plt.grid(True)\n",
    "\n",
    "plt.tight_layout()\n",
    "plt.show()\n",
    "\n",
    "# 2. Visualize the Top 5 Singular Vectors (Singular Components)\n",
    "# Assuming `apply_svd_custom` stores the singular vectors somewhere,\n",
    "# but here I assume you have access to `V_reduced` from the last call to SVD.\n",
    "\n",
    "# Reshape and plot top 5 singular vectors as 28x28 images.\n",
    "# In this case, I assume V_reduced is available from one of the SVD calls.\n",
    "\n",
    "def visualize_singular_vectors(V_reduced, top_n=5):\n",
    "    plt.figure(figsize=(10, 2))\n",
    "    for i in range(top_n):\n",
    "        singular_vector = V_reduced[:, i]  # Take the ith singular vector\n",
    "        singular_vector_image = singular_vector.reshape(28, 28)  # Reshape to 28x28\n",
    "        \n",
    "        plt.subplot(1, top_n, i + 1)\n",
    "        plt.imshow(singular_vector_image, cmap='gray')\n",
    "        plt.title(f'Singular Vector {i + 1}')\n",
    "        plt.axis('off')\n",
    "    \n",
    "    plt.tight_layout()\n",
    "    plt.show()\n",
    "\n",
    "# Example call assuming V_reduced is available\n",
    "visualize_singular_vectors(V_reduced, top_n=5)\n"
   ]
  },
  {
   "cell_type": "markdown",
   "id": "4210569a",
   "metadata": {},
   "source": [
    "## Part 6: Analyze / Conclusion \n",
    "\n",
    "YOUR ANSWER: "
   ]
  },
  {
   "cell_type": "markdown",
   "id": "28193d42",
   "metadata": {},
   "source": [
    "Based on the plots, we can see that the training time increases linearly as the number of SVD components increase. Also, the accuracy of the model increases as the number of SVD components increase, but plateaus at about 0.92. This is expected because SVD reduces the dimensionality of data, preserving only the most important features and leaving out the others, for the benefit of reducing computational costs. The inflection point for the accuracy vs number of components plot seems to be at about 50 components. Beyond that point, accuracy gains are minimal but training time increases significantly. Thus, 50 components seems optimal, offering strong accuracy while keeping training time relatively low."
   ]
  }
 ],
 "metadata": {
  "kernelspec": {
   "display_name": "base",
   "language": "python",
   "name": "python3"
  },
  "language_info": {
   "codemirror_mode": {
    "name": "ipython",
    "version": 3
   },
   "file_extension": ".py",
   "mimetype": "text/x-python",
   "name": "python",
   "nbconvert_exporter": "python",
   "pygments_lexer": "ipython3",
   "version": "3.9.7"
  }
 },
 "nbformat": 4,
 "nbformat_minor": 5
}
